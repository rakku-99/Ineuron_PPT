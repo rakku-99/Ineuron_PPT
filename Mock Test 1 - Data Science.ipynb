{
 "cells": [
  {
   "attachments": {},
   "cell_type": "markdown",
   "metadata": {},
   "source": [
    "17. Write a function that takes a list of numbers as input and returns a new list containing only the even numbers from the input list. Use list comprehension to solve this problem."
   ]
  },
  {
   "cell_type": "code",
   "execution_count": 5,
   "metadata": {},
   "outputs": [
    {
     "data": {
      "text/plain": [
       "[2, 4, 6, 8, 10]"
      ]
     },
     "execution_count": 5,
     "metadata": {},
     "output_type": "execute_result"
    }
   ],
   "source": [
    "# Input List\n",
    "l_in=[1, 2, 3, 4, 5, 6, 7, 8, 9, 10]\n",
    "\n",
    "# Output List Function for extracting even numbers\n",
    "def even_num_list(input_list):\n",
    "    return [i for i in l_in if i%2 == 0]\n",
    "\n",
    "even_num_list(l_in)"
   ]
  },
  {
   "attachments": {},
   "cell_type": "markdown",
   "metadata": {},
   "source": [
    "18. Implement a decorator function called ‘timer’ that measures the execution time of a function. The ‘timer’ decorator should print the time taken by the decorated function to execute. Use the ‘time’ module in Python to calculate the execution time."
   ]
  },
  {
   "cell_type": "code",
   "execution_count": 8,
   "metadata": {},
   "outputs": [
    {
     "name": "stdout",
     "output_type": "stream",
     "text": [
      "Execution time: 2.00651 seconds\n"
     ]
    }
   ],
   "source": [
    "import time\n",
    "\n",
    "# Function to measure excecution time of a function\n",
    "def timer(func):\n",
    "    def wrapper(*args, **kwargs):\n",
    "        start_time = time.time()\n",
    "        result = func(*args, **kwargs)\n",
    "        end_time = time.time()\n",
    "        execution_time = end_time - start_time\n",
    "        print(f\"Execution time: {execution_time:.5f} seconds\")\n",
    "        return result\n",
    "    return wrapper\n",
    "\n",
    "# Decorator Function\n",
    "@timer\n",
    "def rakesh_timer_function():\n",
    "    # Function code goes here\n",
    "    time.sleep(2)\n",
    "\n",
    "rakesh_timer_function()"
   ]
  },
  {
   "attachments": {},
   "cell_type": "markdown",
   "metadata": {},
   "source": [
    "Write a function called ‘calculate_mean’ that takes a list of numbers as input and returns the mean (average) of the numbers. The function should calculate the mean using the sum of the numbers divided by the total count."
   ]
  },
  {
   "cell_type": "code",
   "execution_count": 9,
   "metadata": {},
   "outputs": [
    {
     "name": "stdout",
     "output_type": "stream",
     "text": [
      "Mean: 20.0\n"
     ]
    }
   ],
   "source": [
    "# Function to calculate the mean\n",
    "def calculate_mean(numbers):\n",
    "    total = sum(numbers)\n",
    "    count = len(numbers)\n",
    "    mean = total / count\n",
    "    return mean\n",
    "\n",
    "list_for_avg = [10, 15, 20, 25, 30]\n",
    "mean_value = calculate_mean(list_for_avg)\n",
    "print(\"Mean:\", mean_value)"
   ]
  },
  {
   "attachments": {},
   "cell_type": "markdown",
   "metadata": {},
   "source": [
    "20. Write a function called ‘perform_hypothesis_test’ that takes two lists of numbers as input, representing two samples. The function should perform a two-sample t-test and return the p-value. Use the ‘scipy.stats’ module in Python to calculate the t-test and p-value."
   ]
  },
  {
   "cell_type": "code",
   "execution_count": null,
   "metadata": {},
   "outputs": [
    {
     "name": "stdout",
     "output_type": "stream",
     "text": [
      "P-value: 0.001052825793366539\n"
     ]
    }
   ],
   "source": [
    "from scipy import stats\n",
    "\n",
    "# Function to perform two-sample t-test and return P-value\n",
    "def perform_hypothesis_test(list_1, list_2):\n",
    "    t_test, p_value = stats.ttest_ind(sample1, sample2)\n",
    "    return t_test, p_value\n",
    "\n",
    "# Example usage\n",
    "sample1 = [1, 2, 3, 4, 5]\n",
    "sample2 = [6, 7, 8, 9, 10]\n",
    "t_test, p_value = perform_hypothesis_test(sample1, sample2)\n",
    "print(\"P-value:\", p_value)"
   ]
  },
  {
   "cell_type": "code",
   "execution_count": null,
   "metadata": {},
   "outputs": [],
   "source": []
  }
 ],
 "metadata": {
  "kernelspec": {
   "display_name": "Python 3",
   "language": "python",
   "name": "python3"
  },
  "language_info": {
   "codemirror_mode": {
    "name": "ipython",
    "version": 3
   },
   "file_extension": ".py",
   "mimetype": "text/x-python",
   "name": "python",
   "nbconvert_exporter": "python",
   "pygments_lexer": "ipython3",
   "version": "3.9.10"
  },
  "orig_nbformat": 4
 },
 "nbformat": 4,
 "nbformat_minor": 2
}
